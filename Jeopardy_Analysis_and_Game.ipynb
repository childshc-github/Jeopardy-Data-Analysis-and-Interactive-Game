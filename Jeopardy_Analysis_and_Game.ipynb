{
 "cells": [
  {
   "cell_type": "markdown",
   "id": "b3f7dd2a-c5f5-4679-94e8-02d19bf68fa3",
   "metadata": {},
   "source": [
    "# This is Jeopardy! Data Analysis and Interactive Game"
   ]
  },
  {
   "cell_type": "markdown",
   "id": "e02180cf-a583-4f5b-988a-76566ee33c4d",
   "metadata": {},
   "source": [
    "This project includes several functions for cleaning and analyzing a dataset of questions and answers from Jeopardy!.\n",
    "Columns from the raw data include: `Show Number`, `Air Date`, `Round`, `Category`, `Value`, `Question`, and `Answer`.\n",
    "\n",
    "Additionally, the last cell includes an interactive game. Feel free to play!\n",
    "\n",
    "Dataset source: Codecademy This is Jeopardy! project"
   ]
  },
  {
   "cell_type": "markdown",
   "id": "02622e8c-3386-43bb-b478-b80cff16d58f",
   "metadata": {},
   "source": [
    "### Step 1: Importing and Cleaning"
   ]
  },
  {
   "cell_type": "code",
   "execution_count": 1,
   "id": "0aa41752-22ce-45b8-a401-78f9cd7eec6e",
   "metadata": {
    "execution": {
     "iopub.execute_input": "2022-02-16T03:34:43.798314Z",
     "iopub.status.busy": "2022-02-16T03:34:43.797317Z",
     "iopub.status.idle": "2022-02-16T03:34:44.534795Z",
     "shell.execute_reply": "2022-02-16T03:34:44.533850Z",
     "shell.execute_reply.started": "2022-02-16T03:34:43.798314Z"
    },
    "tags": []
   },
   "outputs": [
    {
     "name": "stdout",
     "output_type": "stream",
     "text": [
      "   Show Number    Air Date      Round                         Category  Value  \\\n",
      "0         4680  12/31/2004  Jeopardy!                          HISTORY  $200    \n",
      "1         4680  12/31/2004  Jeopardy!  ESPN's TOP 10 ALL-TIME ATHLETES  $200    \n",
      "2         4680  12/31/2004  Jeopardy!      EVERYBODY TALKS ABOUT IT...  $200    \n",
      "3         4680  12/31/2004  Jeopardy!                 THE COMPANY LINE  $200    \n",
      "4         4680  12/31/2004  Jeopardy!              EPITAPHS & TRIBUTES  $200    \n",
      "5         4680  12/31/2004  Jeopardy!                   3-LETTER WORDS  $200    \n",
      "6         4680  12/31/2004  Jeopardy!                          HISTORY  $400    \n",
      "7         4680  12/31/2004  Jeopardy!  ESPN's TOP 10 ALL-TIME ATHLETES  $400    \n",
      "8         4680  12/31/2004  Jeopardy!      EVERYBODY TALKS ABOUT IT...  $400    \n",
      "9         4680  12/31/2004  Jeopardy!                 THE COMPANY LINE  $400    \n",
      "\n",
      "                                                                                                        Question  \\\n",
      "0               For the last 8 years of his life, Galileo was under house arrest for espousing this man's theory   \n",
      "1    No. 2: 1912 Olympian; football star at Carlisle Indian School; 6 MLB seasons with the Reds, Giants & Braves   \n",
      "2                       The city of Yuma in this state has a record average of 4,055 hours of sunshine each year   \n",
      "3                           In 1963, live on \"The Art Linkletter Show\", this company served its billionth burger   \n",
      "4       Signer of the Dec. of Indep., framer of the Constitution of Mass., second President of the United States   \n",
      "5                                  In the title of an Aesop fable, this insect shared billing with a grasshopper   \n",
      "6                                   Built in 312 B.C. to link Rome & the South of Italy, it's still in use today   \n",
      "7                                         No. 8: 30 steals for the Birmingham Barons; 2,306 steals for the Bulls   \n",
      "8  In the winter of 1971-72, a record 1,122 inches of snow fell at Rainier Paradise Ranger Station in this state   \n",
      "9             This housewares store was named for the packaging its merchandise came in & was first displayed on   \n",
      "\n",
      "           Answer  \n",
      "0      Copernicus  \n",
      "1      Jim Thorpe  \n",
      "2         Arizona  \n",
      "3      McDonald's  \n",
      "4      John Adams  \n",
      "5         the ant  \n",
      "6  the Appian Way  \n",
      "7  Michael Jordan  \n",
      "8      Washington  \n",
      "9  Crate & Barrel  \n"
     ]
    }
   ],
   "source": [
    "#importing dataset\n",
    "\n",
    "import pandas as pd\n",
    "pd.set_option('display.max_colwidth', None)\n",
    "raw_data = pd.read_csv(r'C:\\Users\\hchld\\Documents\\Programming\\Codecademy\\jeopardy_starting\\jeopardy.csv')\n",
    "print(raw_data.head(10))"
   ]
  },
  {
   "cell_type": "code",
   "execution_count": 2,
   "id": "4843e85f-99dc-4a41-a4d5-71710b217ba5",
   "metadata": {
    "execution": {
     "iopub.execute_input": "2022-02-16T03:34:45.058005Z",
     "iopub.status.busy": "2022-02-16T03:34:45.058005Z",
     "iopub.status.idle": "2022-02-16T03:34:45.094750Z",
     "shell.execute_reply": "2022-02-16T03:34:45.093758Z",
     "shell.execute_reply.started": "2022-02-16T03:34:45.058005Z"
    },
    "tags": []
   },
   "outputs": [
    {
     "name": "stdout",
     "output_type": "stream",
     "text": [
      "Show Number\n",
      " Air Date\n",
      " Round\n",
      " Category\n",
      " Value\n",
      " Question\n",
      " Answer\n",
      "Show_Number\n",
      "Air_Date\n",
      "Round\n",
      "Category\n",
      "Value\n",
      "Question\n",
      "Answer\n"
     ]
    }
   ],
   "source": [
    "#cleaning up column names\n",
    "\n",
    "for column in raw_data:\n",
    "    print(column)\n",
    "#note: all columns but Show Number have leading space\n",
    "\n",
    "no_spacing = raw_data.rename(str.strip, axis='columns')\n",
    "\n",
    "df = no_spacing.rename(columns={\"Show Number\": \"Show_Number\", \"Air Date\": \"Air_Date\"})\n",
    "\n",
    "for column in df:\n",
    "    print(column)\n",
    "#all columns now have no leading space and better naming"
   ]
  },
  {
   "cell_type": "markdown",
   "id": "3d8623e0-43cd-482c-8c5d-d5c8e651f1ab",
   "metadata": {},
   "source": [
    "### Step 2: Creating Functions"
   ]
  },
  {
   "cell_type": "code",
   "execution_count": 3,
   "id": "f2056450-84dd-40be-a416-0edbe3a607e2",
   "metadata": {
    "execution": {
     "iopub.execute_input": "2022-02-16T03:34:47.400189Z",
     "iopub.status.busy": "2022-02-16T03:34:47.400189Z",
     "iopub.status.idle": "2022-02-16T03:34:47.570294Z",
     "shell.execute_reply": "2022-02-16T03:34:47.569561Z",
     "shell.execute_reply.started": "2022-02-16T03:34:47.400189Z"
    },
    "tags": []
   },
   "outputs": [
    {
     "name": "stdout",
     "output_type": "stream",
     "text": [
      "       Show_Number    Air_Date             Round                     Category  \\\n",
      "282           4931    2/6/2006  Double Jeopardy!                  AT THE MALL   \n",
      "16238         5051   7/24/2006         Jeopardy!            AMERICAN BUSINESS   \n",
      "23883         2975    7/4/1997         Jeopardy!            THE FOOD BUSINESS   \n",
      "37324         5088  10/25/2006  Double Jeopardy!                  A STOCKPILE   \n",
      "43716         6078    2/2/2011  Double Jeopardy!  NATIONAL HISTORIC LANDMARKS   \n",
      "46740         3061  12/15/1997         Jeopardy!                     FORMULAS   \n",
      "48350         3943  10/24/2001  Double Jeopardy!          BUSINESS & INDUSTRY   \n",
      "50747         1283   3/14/1990         Jeopardy!          BUSINESS & INDUSTRY   \n",
      "72373         5295   9/21/2007         Jeopardy!        FOR WHAT IT'S \"WORTH\"   \n",
      "72618         3805    3/2/2001         Jeopardy!               STUPID ANSWERS   \n",
      "\n",
      "         Value  \\\n",
      "282    $1,200    \n",
      "16238    $400    \n",
      "23883    $400    \n",
      "37324    $400    \n",
      "43716    $400    \n",
      "46740    $100    \n",
      "48350  $1,000    \n",
      "50747    $100    \n",
      "72373    $200    \n",
      "72618    $200    \n",
      "\n",
      "                                                                                               Question  \\\n",
      "282                                           This \"Urban\" store is the parent company of Anthropologie   \n",
      "16238   In 1962 the Dayton Company hit the bull's-eye when it opened the first of these discount stores   \n",
      "23883   In 1833 Abraham Lincoln sold this company's packaged chocolate in his Salem, Ill. country store   \n",
      "37324                                                      Store some Nikes & Pumas in this company, FL   \n",
      "43716             Historic landmarks in this city include Hull House & the Marshall Field Company Store   \n",
      "46740  This soft drink's secret formula is stored in a safe deposit box at the Trust Company of Georgia   \n",
      "48350                            This athletic shoe company's internet store is located at catshack.com   \n",
      "50747            Through a licensing agreement with this company, Sears has opened stores called McKids   \n",
      "72373       By 1912 this merchant's company owned more than 500 stores bearing his name across the U.S.   \n",
      "72618         On 7/11/2000 this company announced the opening of its 20,000th store, a new one in Tokyo   \n",
      "\n",
      "                           Answer  \n",
      "282              Urban Outfitters  \n",
      "16238                      Target  \n",
      "23883                     Baker's  \n",
      "37324                 Foot Locker  \n",
      "43716                     Chicago  \n",
      "46740                   Coca-Cola  \n",
      "48350                        Puma  \n",
      "50747                  McDonald's  \n",
      "72373  (Frank Winfield) Woolworth  \n",
      "72618                    7-Eleven  \n"
     ]
    }
   ],
   "source": [
    "#Function sorts through df for both keywords matches in Question column\n",
    "keywords = [\"company\", \"store\"]\n",
    "\n",
    "def create_via_keywords(dataframe, keys):\n",
    "    filtering = lambda x: all(key.lower() in x.lower() for key in keys)\n",
    "    return dataframe.loc[dataframe[\"Question\"].apply(filtering)]\n",
    "\n",
    "filtered_df = create_via_keywords(df, keywords)\n",
    "print(filtered_df.head(10))"
   ]
  },
  {
   "cell_type": "code",
   "execution_count": 4,
   "id": "1ed1a872-9b0e-4bbd-86c6-b9142e467624",
   "metadata": {
    "execution": {
     "iopub.execute_input": "2022-02-16T03:34:48.188785Z",
     "iopub.status.busy": "2022-02-16T03:34:48.188785Z",
     "iopub.status.idle": "2022-02-16T03:34:48.311099Z",
     "shell.execute_reply": "2022-02-16T03:34:48.310081Z",
     "shell.execute_reply.started": "2022-02-16T03:34:48.188785Z"
    },
    "tags": []
   },
   "outputs": [
    {
     "name": "stdout",
     "output_type": "stream",
     "text": [
      "   Show_Number    Air_Date      Round                         Category  Value  \\\n",
      "0         4680  12/31/2004  Jeopardy!                          HISTORY  $200    \n",
      "1         4680  12/31/2004  Jeopardy!  ESPN's TOP 10 ALL-TIME ATHLETES  $200    \n",
      "2         4680  12/31/2004  Jeopardy!      EVERYBODY TALKS ABOUT IT...  $200    \n",
      "3         4680  12/31/2004  Jeopardy!                 THE COMPANY LINE  $200    \n",
      "4         4680  12/31/2004  Jeopardy!              EPITAPHS & TRIBUTES  $200    \n",
      "5         4680  12/31/2004  Jeopardy!                   3-LETTER WORDS  $200    \n",
      "6         4680  12/31/2004  Jeopardy!                          HISTORY  $400    \n",
      "7         4680  12/31/2004  Jeopardy!  ESPN's TOP 10 ALL-TIME ATHLETES  $400    \n",
      "8         4680  12/31/2004  Jeopardy!      EVERYBODY TALKS ABOUT IT...  $400    \n",
      "9         4680  12/31/2004  Jeopardy!                 THE COMPANY LINE  $400    \n",
      "\n",
      "                                                                                                        Question  \\\n",
      "0               For the last 8 years of his life, Galileo was under house arrest for espousing this man's theory   \n",
      "1    No. 2: 1912 Olympian; football star at Carlisle Indian School; 6 MLB seasons with the Reds, Giants & Braves   \n",
      "2                       The city of Yuma in this state has a record average of 4,055 hours of sunshine each year   \n",
      "3                           In 1963, live on \"The Art Linkletter Show\", this company served its billionth burger   \n",
      "4       Signer of the Dec. of Indep., framer of the Constitution of Mass., second President of the United States   \n",
      "5                                  In the title of an Aesop fable, this insect shared billing with a grasshopper   \n",
      "6                                   Built in 312 B.C. to link Rome & the South of Italy, it's still in use today   \n",
      "7                                         No. 8: 30 steals for the Birmingham Barons; 2,306 steals for the Bulls   \n",
      "8  In the winter of 1971-72, a record 1,122 inches of snow fell at Rainier Paradise Ranger Station in this state   \n",
      "9             This housewares store was named for the packaging its merchandise came in & was first displayed on   \n",
      "\n",
      "           Answer  Value_Float  \n",
      "0      Copernicus        200.0  \n",
      "1      Jim Thorpe        200.0  \n",
      "2         Arizona        200.0  \n",
      "3      McDonald's        200.0  \n",
      "4      John Adams        200.0  \n",
      "5         the ant        200.0  \n",
      "6  the Appian Way        400.0  \n",
      "7  Michael Jordan        400.0  \n",
      "8      Washington        400.0  \n",
      "9  Crate & Barrel        400.0  \n"
     ]
    }
   ],
   "source": [
    "#Create new column, Value_Float, with Value as floats\n",
    "def convert_to_float(x):\n",
    "    if x != \"None\":\n",
    "        return float(x[1:].replace(\",\", \"\"))\n",
    "\n",
    "df[\"Value_Float\"] = df.Value.apply(convert_to_float)\n",
    "print(df.head(10))"
   ]
  },
  {
   "cell_type": "code",
   "execution_count": 5,
   "id": "3ea3c318-79be-4dd0-b32e-8e829cac93c0",
   "metadata": {
    "execution": {
     "iopub.execute_input": "2022-02-16T03:34:49.102615Z",
     "iopub.status.busy": "2022-02-16T03:34:49.102615Z",
     "iopub.status.idle": "2022-02-16T03:34:50.625835Z",
     "shell.execute_reply": "2022-02-16T03:34:50.625835Z",
     "shell.execute_reply.started": "2022-02-16T03:34:49.102615Z"
    },
    "tags": []
   },
   "outputs": [
    {
     "name": "stdout",
     "output_type": "stream",
     "text": [
      "   Show_Number    Air_Date      Round                         Category  Value  \\\n",
      "0         4680  12/31/2004  Jeopardy!                          HISTORY  $200    \n",
      "1         4680  12/31/2004  Jeopardy!  ESPN's TOP 10 ALL-TIME ATHLETES  $200    \n",
      "2         4680  12/31/2004  Jeopardy!      EVERYBODY TALKS ABOUT IT...  $200    \n",
      "3         4680  12/31/2004  Jeopardy!                 THE COMPANY LINE  $200    \n",
      "4         4680  12/31/2004  Jeopardy!              EPITAPHS & TRIBUTES  $200    \n",
      "\n",
      "                                                                                                      Question  \\\n",
      "0             For the last 8 years of his life, Galileo was under house arrest for espousing this man's theory   \n",
      "1  No. 2: 1912 Olympian; football star at Carlisle Indian School; 6 MLB seasons with the Reds, Giants & Braves   \n",
      "2                     The city of Yuma in this state has a record average of 4,055 hours of sunshine each year   \n",
      "3                         In 1963, live on \"The Art Linkletter Show\", this company served its billionth burger   \n",
      "4     Signer of the Dec. of Indep., framer of the Constitution of Mass., second President of the United States   \n",
      "\n",
      "       Answer  Value_Float datetime_Air_Date  \n",
      "0  Copernicus        200.0        2004-12-31  \n",
      "1  Jim Thorpe        200.0        2004-12-31  \n",
      "2     Arizona        200.0        2004-12-31  \n",
      "3  McDonald's        200.0        2004-12-31  \n",
      "4  John Adams        200.0        2004-12-31  \n"
     ]
    }
   ],
   "source": [
    "#Create new column, datetime_Air_Date in datetime dtype\n",
    "from datetime import datetime\n",
    "df[\"datetime_Air_Date\"] = df.Air_Date.apply(lambda x: datetime.strptime(x, \"%m/%d/%Y\"))\n",
    "print(df.head())"
   ]
  },
  {
   "cell_type": "code",
   "execution_count": 6,
   "id": "0c02f610-b877-4807-b2d8-8f4315c03d8b",
   "metadata": {
    "execution": {
     "iopub.execute_input": "2022-02-16T03:34:51.395268Z",
     "iopub.status.busy": "2022-02-16T03:34:51.395268Z",
     "iopub.status.idle": "2022-02-16T03:34:52.055010Z",
     "shell.execute_reply": "2022-02-16T03:34:52.054160Z",
     "shell.execute_reply.started": "2022-02-16T03:34:51.395268Z"
    },
    "tags": []
   },
   "outputs": [
    {
     "name": "stdout",
     "output_type": "stream",
     "text": [
      "The average value of Jeopardy! questions containing the keyword \"company\" is 791.3\n",
      "The average value of Jeopardy! questions containing the keyword \"store\" is 757.6\n"
     ]
    }
   ],
   "source": [
    "#Difficulty finder (higher Value_Float = more difficult)\n",
    "company_df = create_via_keywords(df, \"company\")\n",
    "store_df = create_via_keywords(df, \"store\")\n",
    "\n",
    "def average_difficulty(dataframe):\n",
    "    return dataframe.Value_Float.mean()\n",
    "\n",
    "company_difficulty = average_difficulty(company_df)\n",
    "print(\"The average value of Jeopardy! questions containing the keyword \\\"company\\\" is {}\".format(str(round(company_difficulty, 1))))\n",
    "store_difficulty = average_difficulty(store_df)\n",
    "print(\"The average value of Jeopardy! questions containing the keyword \\\"store\\\" is {}\".format(str(round(store_difficulty, 1))))"
   ]
  },
  {
   "cell_type": "code",
   "execution_count": 7,
   "id": "15152d60-8ff6-4ac3-9189-764c49e87da8",
   "metadata": {
    "execution": {
     "iopub.execute_input": "2022-02-16T03:34:53.497959Z",
     "iopub.status.busy": "2022-02-16T03:34:53.497959Z",
     "iopub.status.idle": "2022-02-16T03:34:53.574166Z",
     "shell.execute_reply": "2022-02-16T03:34:53.573153Z",
     "shell.execute_reply.started": "2022-02-16T03:34:53.497959Z"
    },
    "tags": []
   },
   "outputs": [
    {
     "name": "stdout",
     "output_type": "stream",
     "text": [
      "China                              101\n",
      "Chicago                             86\n",
      "Japan                               83\n",
      "India                               82\n",
      "Paris                               78\n",
      "                                  ... \n",
      "R&R                                  1\n",
      "\"Can't Buy Me Love\"                  1\n",
      "\"One if by land, two if by sea\"      1\n",
      "the 1980s                            1\n",
      "a lease                              1\n",
      "Name: Answer, Length: 41085, dtype: int64 China                              101\n",
      "Chicago                             86\n",
      "Japan                               83\n",
      "India                               82\n",
      "Paris                               78\n",
      "                                  ... \n",
      "R&R                                  1\n",
      "\"Can't Buy Me Love\"                  1\n",
      "\"One if by land, two if by sea\"      1\n",
      "the 1980s                            1\n",
      "a lease                              1\n",
      "Name: Answer, Length: 41085, dtype: int64\n"
     ]
    }
   ],
   "source": [
    "#Find unique answers for keyword dataframes\n",
    "def unique_ans_count(dataframe):\n",
    "    return dataframe[\"Answer\"].value_counts()\n",
    "company_ans_series = unique_ans_count(company_df)\n",
    "store_ans_series = unique_ans_count(store_df)\n",
    "print(company_ans_series, company_ans_series)"
   ]
  },
  {
   "cell_type": "code",
   "execution_count": 8,
   "id": "3e204aed-74d6-4e72-927d-a32102fe8497",
   "metadata": {
    "execution": {
     "iopub.execute_input": "2022-02-16T03:34:56.845211Z",
     "iopub.status.busy": "2022-02-16T03:34:56.844213Z",
     "iopub.status.idle": "2022-02-16T03:34:58.407186Z",
     "shell.execute_reply": "2022-02-16T03:34:58.406189Z",
     "shell.execute_reply.started": "2022-02-16T03:34:56.845211Z"
    },
    "tags": []
   },
   "outputs": [
    {
     "name": "stdout",
     "output_type": "stream",
     "text": [
      "The number of questions with the keyword \"computer\" was 24027 in the 90s and 61945 in the 2000s.\n",
      "The number of questions with the keyword \"cellphone\" was 32913 in the 90s and 80879 in the 2000s.\n",
      "The number of questions with the keyword \"television\" was 23978 in the 90s and 61479 in the 2000s.\n"
     ]
    }
   ],
   "source": [
    "#Count of word keywords by date (in 90s or in 2000s)\n",
    "import datetime\n",
    "\n",
    "def keyword_counter_by_date(dataframe, keyword):\n",
    "    keyword_df = create_via_keywords(dataframe, keyword)\n",
    "    in_90s = 0\n",
    "    in_2000s = 0\n",
    "    for row in keyword_df.datetime_Air_Date:\n",
    "        if row < datetime.datetime(2000, 1, 1):\n",
    "            in_90s += 1\n",
    "        elif row >= datetime.datetime(2000, 1, 1):\n",
    "            in_2000s += 1\n",
    "    print(\"The number of questions with the keyword \\\"{}\\\" was {} in the 90s and {} in the 2000s.\".format(keyword, str(in_90s), str(in_2000s)))\n",
    "\n",
    "computer_counter = keyword_counter_by_date(df, \"computer\")\n",
    "cellphone_counter = keyword_counter_by_date(df, \"cellphone\") \n",
    "television_counter = keyword_counter_by_date(df, \"television\") "
   ]
  },
  {
   "cell_type": "markdown",
   "id": "efca9d9d-b5bb-46f5-b792-731864865cec",
   "metadata": {},
   "source": [
    "### Step 3: Making Data Interactive"
   ]
  },
  {
   "cell_type": "code",
   "execution_count": 9,
   "id": "fc7901b3-ed70-4c35-ac3f-a7d95be4c686",
   "metadata": {
    "execution": {
     "iopub.execute_input": "2022-02-16T03:32:25.259948Z",
     "iopub.status.busy": "2022-02-16T03:32:25.258915Z",
     "iopub.status.idle": "2022-02-16T03:32:25.280877Z",
     "shell.execute_reply": "2022-02-16T03:32:25.279859Z",
     "shell.execute_reply.started": "2022-02-16T03:32:25.259948Z"
    },
    "tags": []
   },
   "outputs": [],
   "source": [
    "#setup input, SQL database for stat tracker, and game\n",
    "from random import randrange\n",
    "import sqlite3\n",
    "\n",
    "connection = sqlite3.connect(\"jeopardy_stats.db\")\n",
    "cursor = connection.cursor()\n",
    "\n",
    "cursor.execute(''' CREATE TABLE jeopardy_stats (\n",
    "Balance INT,\n",
    "Correct INT,\n",
    "Incorrect INT\n",
    ");\n",
    "''')\n",
    "\n",
    "def jeopardy_game(df):\n",
    "    random_num = randrange(len(df))\n",
    "    question = df.iloc[random_num]\n",
    "    print(\"The category is {} for a value of {}! Your question is: {}.\".format(str(question.Category), str(question.Value), str(question.Question)))\n",
    "    your_answer = input(\"Please input your answer and press Enter:\")\n",
    "    if str(your_answer) == str(question.Answer):\n",
    "        question_num = (question.Value_Float, 1, 0)\n",
    "        cursor.execute('INSERT INTO jeopardy_stats VALUES (?,?,?);', question_num)\n",
    "        current_balance = cursor.execute('SELECT SUM(Balance) FROM jeopardy_stats').fetchone()\n",
    "        total_correct = cursor.execute('SELECT SUM(Correct) FROM jeopardy_stats').fetchone()\n",
    "        total_incorrect = cursor.execute('SELECT SUM(Incorrect) FROM jeopardy_stats').fetchone()\n",
    "        print(\"That is correct! Your current stats are Balance: {}, Correct: {}, Incorrect: {}.\".format(str(current_balance), str(total_correct), str(total_incorrect)))\n",
    "    elif str(your_answer) != str(question.Answer):\n",
    "        question_num = (-abs(question.Value_Float), 0, 1)\n",
    "        cursor.execute('INSERT INTO jeopardy_stats VALUES (?,?,?);', question_num)\n",
    "        current_balance = cursor.execute('SELECT SUM(Balance) FROM jeopardy_stats').fetchone()\n",
    "        total_correct = cursor.execute('SELECT SUM(Correct) FROM jeopardy_stats').fetchone()\n",
    "        total_incorrect = cursor.execute('SELECT SUM(Incorrect) FROM jeopardy_stats').fetchone()\n",
    "        print(\"That is incorrect. The answer is {}. Your current stats are Balance: {}, Correct: {}, Incorrect: {}.\".format(str(question.Answer),str(current_balance), str(total_correct), str(total_incorrect)))\n"
   ]
  },
  {
   "cell_type": "markdown",
   "id": "6e576135-9e34-4f95-a21c-3e6f40c087f9",
   "metadata": {},
   "source": [
    "### How to play:\n",
    "-Each cell represents a separate, randomly-selected question. Simply run the following cells sequentially, and the question will be outputted along with your stats (tracked via SQL database)."
   ]
  },
  {
   "cell_type": "code",
   "execution_count": null,
   "id": "9ee9423f-ef51-441e-a551-2be804598caf",
   "metadata": {},
   "outputs": [],
   "source": [
    "#Question 1\n",
    "jeopardy_game(df)"
   ]
  },
  {
   "cell_type": "code",
   "execution_count": null,
   "id": "9f86715e-732f-4f1e-ab20-f2fc1394f288",
   "metadata": {},
   "outputs": [],
   "source": [
    "#Question 2\n",
    "jeopardy_game(df)"
   ]
  },
  {
   "cell_type": "code",
   "execution_count": null,
   "id": "b4470174-c213-426f-a6b9-af63173ea4e2",
   "metadata": {},
   "outputs": [],
   "source": [
    "#Question 3\n",
    "jeopardy_game(df)"
   ]
  },
  {
   "cell_type": "code",
   "execution_count": null,
   "id": "c2cb13cd-ce22-42ec-b160-dee49825eb14",
   "metadata": {
    "tags": []
   },
   "outputs": [],
   "source": [
    "#Question 4\n",
    "jeopardy_game(df)"
   ]
  },
  {
   "cell_type": "code",
   "execution_count": null,
   "id": "105f6e61-84c8-41f2-873e-aba22adafe15",
   "metadata": {},
   "outputs": [],
   "source": [
    "#Question 5\n",
    "jeopardy_game(df)"
   ]
  },
  {
   "cell_type": "code",
   "execution_count": null,
   "id": "b156ad7a-b604-4023-8642-1d99dbed6a70",
   "metadata": {},
   "outputs": [],
   "source": [
    "#Question 6\n",
    "jeopardy_game(df)"
   ]
  },
  {
   "cell_type": "code",
   "execution_count": null,
   "id": "c43b57cb-f918-462d-86b3-023a8b546193",
   "metadata": {},
   "outputs": [],
   "source": [
    "#Question 7\n",
    "jeopardy_game(df)"
   ]
  },
  {
   "cell_type": "code",
   "execution_count": null,
   "id": "27d2b480-2d72-411f-bfb7-ddb061bb13c4",
   "metadata": {},
   "outputs": [],
   "source": [
    "#Question 8\n",
    "jeopardy_game(df)"
   ]
  },
  {
   "cell_type": "code",
   "execution_count": null,
   "id": "3617517d-379b-4a10-9ccf-1b3083772cc6",
   "metadata": {},
   "outputs": [],
   "source": [
    "#Question 9\n",
    "jeopardy_game(df)"
   ]
  },
  {
   "cell_type": "code",
   "execution_count": null,
   "id": "75523148-bf5c-4ca4-8288-50093e0872ec",
   "metadata": {},
   "outputs": [],
   "source": [
    "#Question 10\n",
    "jeopardy_game(df)"
   ]
  }
 ],
 "metadata": {
  "kernelspec": {
   "display_name": "Python 3",
   "language": "python",
   "name": "python3"
  },
  "language_info": {
   "codemirror_mode": {
    "name": "ipython",
    "version": 3
   },
   "file_extension": ".py",
   "mimetype": "text/x-python",
   "name": "python",
   "nbconvert_exporter": "python",
   "pygments_lexer": "ipython3",
   "version": "3.8.8"
  }
 },
 "nbformat": 4,
 "nbformat_minor": 5
}
